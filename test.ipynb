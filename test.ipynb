{
 "cells": [
  {
   "cell_type": "code",
   "execution_count": 1,
   "metadata": {
    "collapsed": true
   },
   "outputs": [],
   "source": [
    "import json\n",
    "import numpy as np\n",
    "import networkx as nx\n",
    "import matplotlib.pyplot as plt"
   ]
  },
  {
   "cell_type": "code",
   "execution_count": 2,
   "outputs": [],
   "source": [
    "with open('data\\SW-eng-anonymized-demo-graph.json') as f:\n",
    "    data1 = json.load(f)\n",
    "#     print the data"
   ],
   "metadata": {
    "collapsed": false
   }
  },
  {
   "cell_type": "code",
   "execution_count": 3,
   "outputs": [],
   "source": [
    "# with open('data\\histrocal-data.json') as f:\n",
    "#     data2 = json.load(f)\n",
    "#     print the data"
   ],
   "metadata": {
    "collapsed": false
   }
  },
  {
   "cell_type": "code",
   "execution_count": 4,
   "outputs": [],
   "source": [
    "with open('data\\\\\\\\raw.json') as f:\n",
    "    data3 = json.load(f)\n",
    "#     print the data"
   ],
   "metadata": {
    "collapsed": false
   }
  },
  {
   "cell_type": "code",
   "execution_count": 5,
   "outputs": [
    {
     "name": "stdout",
     "output_type": "stream",
     "text": [
      "attributeTypes\n",
      "vertexArchetypes\n",
      "edgeArchetypes\n",
      "vertices\n",
      "edges\n"
     ]
    }
   ],
   "source": [
    "# print(data)\n",
    "for key, value in data1.items():\n",
    "    print(key)\n"
   ],
   "metadata": {
    "collapsed": false
   }
  },
  {
   "cell_type": "code",
   "execution_count": 6,
   "outputs": [],
   "source": [
    "# for key, value in data2.items():\n",
    "#     print(key)"
   ],
   "metadata": {
    "collapsed": false
   }
  },
  {
   "cell_type": "code",
   "execution_count": 7,
   "outputs": [
    {
     "name": "stdout",
     "output_type": "stream",
     "text": [
      "attributeTypes\n",
      "edgeArchetypes\n",
      "vertexArchetypes\n",
      "vertices\n",
      "edges\n",
      "possibleEnumValues\n",
      "groups\n",
      "sideBar\n",
      "highlightedVertex\n",
      "highlightedEdge\n"
     ]
    }
   ],
   "source": [
    "for key, value in data3.items():\n",
    "    print(key)"
   ],
   "metadata": {
    "collapsed": false
   }
  },
  {
   "cell_type": "code",
   "execution_count": 8,
   "outputs": [
    {
     "name": "stdout",
     "output_type": "stream",
     "text": [
      "304\n"
     ]
    }
   ],
   "source": [
    "print(len(data1['vertices']))"
   ],
   "metadata": {
    "collapsed": false
   }
  },
  {
   "cell_type": "code",
   "execution_count": 9,
   "outputs": [
    {
     "name": "stdout",
     "output_type": "stream",
     "text": [
      "19\n"
     ]
    }
   ],
   "source": [
    "print(len(data3['vertices']))"
   ],
   "metadata": {
    "collapsed": false
   }
  },
  {
   "cell_type": "code",
   "execution_count": 10,
   "outputs": [],
   "source": [
    "vertices = {}\n",
    "for node in data1['vertices']:\n",
    "    vertices[node['id']] = node\n",
    "vertices_to_id = list(vertices.keys())\n",
    "id_to_vertices = {v: k for k, v in enumerate(vertices_to_id)}"
   ],
   "metadata": {
    "collapsed": false
   }
  },
  {
   "cell_type": "code",
   "execution_count": 11,
   "outputs": [],
   "source": [
    "edges = []\n",
    "\n",
    "for node in data1['edges']:\n",
    "    edges.append(node)"
   ],
   "metadata": {
    "collapsed": false
   }
  },
  {
   "cell_type": "code",
   "execution_count": 12,
   "outputs": [],
   "source": [
    "adjacency = [[None for i in range(len(vertices))] for j in range(len(vertices))]\n",
    "\n",
    "for edge in edges:\n",
    "    first_id = edge['from']\n",
    "    second_id = edge['to']\n",
    "    first_position = id_to_vertices[first_id]\n",
    "    second_position = id_to_vertices[second_id]\n",
    "    if adjacency[first_position][second_position] is None:\n",
    "        adjacency[first_position][second_position] = [edge]\n",
    "    else:\n",
    "        adjacency[first_position][second_position].append(edge)"
   ],
   "metadata": {
    "collapsed": false
   }
  },
  {
   "cell_type": "code",
   "execution_count": 13,
   "outputs": [
    {
     "data": {
      "text/plain": "<Figure size 640x480 with 1 Axes>",
      "image/png": "[encoded data removed]"
     },
     "metadata": {},
     "output_type": "display_data"
    }
   ],
   "source": [
    "# heatmap where each cell is the number of edges between two nodes\n",
    "heatmap = [[len(adjacency[i][j]) if adjacency[i][j] else 0 for i in range(len(adjacency))] for j in range(len(adjacency))]\n",
    "plt.imshow(heatmap, cmap='hot', interpolation='nearest')\n",
    "plt.show()"
   ],
   "metadata": {
    "collapsed": false
   }
  }
 ],
 "metadata": {
  "kernelspec": {
   "display_name": "Python 3",
   "language": "python",
   "name": "python3"
  },
  "language_info": {
   "codemirror_mode": {
    "name": "ipython",
    "version": 2
   },
   "file_extension": ".py",
   "mimetype": "text/x-python",
   "name": "python",
   "nbconvert_exporter": "python",
   "pygments_lexer": "ipython2",
   "version": "2.7.6"
  }
 },
 "nbformat": 4,
 "nbformat_minor": 0
}
